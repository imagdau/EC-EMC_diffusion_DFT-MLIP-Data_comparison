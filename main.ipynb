{
 "cells": [
  {
   "cell_type": "markdown",
   "metadata": {},
   "source": [
    "# Initialize"
   ]
  },
  {
   "cell_type": "code",
   "execution_count": 59,
   "metadata": {},
   "outputs": [
    {
     "name": "stdout",
     "output_type": "stream",
     "text": [
      "TrainData_IBM23.zip\n",
      "MLIP_MACE_SD22NQ_B97.zip\n",
      "MDSims_1000Atoms_1fs_MACE_IBM23_B97.zip\n",
      "MDSims_1000Atoms_1fs_MACE_SD22NQQ_wB97X.zip\n",
      "MLIP_MACE_SD22NQ_wB97X.zip\n",
      "MLIP_MACE_SD22NQQ_wB97X.zip\n",
      "TrainData_SD22.zip\n",
      "MDSims_1000Atoms_1fs_MACE_SD22NQ_B97.zip\n",
      "MDSims_1000Atoms_05fs_MACE_SD22NQ_wB97X.zip\n",
      "MLIP_MACE_IBM23_B97.zip\n"
     ]
    }
   ],
   "source": [
    "import os\n",
    "import requests\n",
    "import zipfile\n",
    "\n",
    "os.makedirs('.cache', exist_ok=True)\n",
    "\n",
    "ACCESS_TOKEN = 'auogYyMdjR5xIm95VPsxhzVQpcEYhteapE11NLw4Hk0zTWKR22CAc9ELxzY4'\n",
    "r = requests.get('https://zenodo.org/api/deposit/depositions/10712131', params={'access_token': ACCESS_TOKEN})\n",
    "urls = {db['filename']:db['links']['download'] for db in r.json()['files']}\n",
    "for k in urls.keys():\n",
    "    print(k)\n",
    "\n",
    "def get_data(fname):\n",
    "    fbase = os.path.splitext(fname)[0]\n",
    "    print(fbase)\n",
    "    if not os.path.exists('.cache/'+fbase):\n",
    "        file_response = requests.get(urls[fname], params={'access_token': ACCESS_TOKEN})\n",
    "        with open('.cache/'+fname, 'wb') as f:\n",
    "            f.write(file_response.content)\n",
    "        with zipfile.ZipFile('.cache/'+fname, 'r') as zip_ref:\n",
    "            zip_ref.extractall('.cache/'+fbase)\n",
    "        os.remove('.cache/'+fname)"
   ]
  },
  {
   "cell_type": "markdown",
   "metadata": {},
   "source": [
    "# Get MD trajectories"
   ]
  },
  {
   "cell_type": "code",
   "execution_count": 63,
   "metadata": {},
   "outputs": [
    {
     "name": "stdout",
     "output_type": "stream",
     "text": [
      "MDSims_1000Atoms_1fs_MACE_IBM23_B97\n",
      "MDSims_1000Atoms_1fs_MACE_SD22NQ_B97\n"
     ]
    }
   ],
   "source": [
    "get_data('MDSims_1000Atoms_1fs_MACE_IBM23_B97.zip')\n",
    "get_data('MDSims_1000Atoms_1fs_MACE_SD22NQ_B97.zip')"
   ]
  },
  {
   "cell_type": "code",
   "execution_count": null,
   "metadata": {},
   "outputs": [],
   "source": []
  }
 ],
 "metadata": {
  "kernelspec": {
   "display_name": "mace_env",
   "language": "python",
   "name": "python3"
  },
  "language_info": {
   "codemirror_mode": {
    "name": "ipython",
    "version": 3
   },
   "file_extension": ".py",
   "mimetype": "text/x-python",
   "name": "python",
   "nbconvert_exporter": "python",
   "pygments_lexer": "ipython3",
   "version": "3.10.13"
  }
 },
 "nbformat": 4,
 "nbformat_minor": 2
}
