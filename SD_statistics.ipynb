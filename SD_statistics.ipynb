{
 "cells": [
  {
   "cell_type": "code",
   "execution_count": 1,
   "id": "f1244016",
   "metadata": {},
   "outputs": [],
   "source": [
    "from helper_funcs import *\n",
    "\n",
    "# Colourblind friendly colours\n",
    "import tol_colors as tc\n",
    "cset = tc.tol_cset('bright')\n",
    "plt.rc('axes', prop_cycle=plt.cycler('color', list(cset)))\n",
    "\n",
    "fsize = 24\n",
    "plt.rcParams.update({'font.size': fsize})\n",
    "\n",
    "\n",
    "#dynamics_path = '../publication/dynamics/'\n",
    "static_path = '../publication/static_tests/'\n"
   ]
  },
  {
   "cell_type": "markdown",
   "id": "1c31b3a5",
   "metadata": {},
   "source": [
    "# Data set statistics"
   ]
  },
  {
   "cell_type": "markdown",
   "id": "c79db476",
   "metadata": {},
   "source": [
    "## Small data set (SD22NQQ)"
   ]
  },
  {
   "cell_type": "code",
   "execution_count": 277,
   "id": "6ad4c1fe",
   "metadata": {},
   "outputs": [],
   "source": [
    "import pickle\n",
    "from ase.io import read\n",
    "\n",
    "pkl_name = './SD22NQQ_xyz.pkl'\n",
    "\n",
    "SD22NQQ1 = read(f'{static_path}/SDN22NQQ/wB97X/SEED1/DSET1/train_data/SD22NQQ1_wB97XD3BJ_Psi4.xyz', '3:') # first three structures are single atoms\n",
    "SD22NQQ2 = read(f'{static_path}/SDN22NQQ/wB97X/SEED1/DSET2/train_data/SD22NQQ2_wB97XD3BJ_Psi4.xyz', '3:') # first three structures are single atoms\n",
    "SD22NQQ3 = read(f'{static_path}/SDN22NQQ/wB97X/SEED1/DSET3/train_data/SD22NQQ3_wB97XD3BJ_Psi4.xyz', '3:') # first three structures are single atoms\n",
    "\n",
    "xyz_dict = {'SD22NQQ1':SD22NQQ1, 'SD22NQQ2':SD22NQQ2, 'SD22NQQ3':SD22NQQ3}\n",
    "with open(pkl_name, 'wb') as f:\n",
    "    pickle.dump(xyz_dict, f)"
   ]
  },
  {
   "cell_type": "markdown",
   "id": "335a8233",
   "metadata": {},
   "source": [
    "### Cluster composition"
   ]
  },
  {
   "cell_type": "code",
   "execution_count": 8,
   "id": "0d2a1c83",
   "metadata": {},
   "outputs": [
    {
     "data": {
      "text/html": [
       "<div>\n",
       "<style scoped>\n",
       "    .dataframe tbody tr th:only-of-type {\n",
       "        vertical-align: middle;\n",
       "    }\n",
       "\n",
       "    .dataframe tbody tr th {\n",
       "        vertical-align: top;\n",
       "    }\n",
       "\n",
       "    .dataframe thead th {\n",
       "        text-align: right;\n",
       "    }\n",
       "</style>\n",
       "<table border=\"1\" class=\"dataframe\">\n",
       "  <thead>\n",
       "    <tr style=\"text-align: right;\">\n",
       "      <th></th>\n",
       "      <th>SD22NQQ1</th>\n",
       "      <th>SD22NQQ2</th>\n",
       "      <th>SD22NQQ3</th>\n",
       "    </tr>\n",
       "    <tr>\n",
       "      <th>Cluster size, $N_\\text{mols}$</th>\n",
       "      <th></th>\n",
       "      <th></th>\n",
       "      <th></th>\n",
       "    </tr>\n",
       "  </thead>\n",
       "  <tbody>\n",
       "    <tr>\n",
       "      <th>1</th>\n",
       "      <td>900</td>\n",
       "      <td>900</td>\n",
       "      <td>900</td>\n",
       "    </tr>\n",
       "    <tr>\n",
       "      <th>2</th>\n",
       "      <td>1470</td>\n",
       "      <td>1470</td>\n",
       "      <td>1470</td>\n",
       "    </tr>\n",
       "    <tr>\n",
       "      <th>3</th>\n",
       "      <td>2001</td>\n",
       "      <td>2001</td>\n",
       "      <td>2001</td>\n",
       "    </tr>\n",
       "    <tr>\n",
       "      <th>4</th>\n",
       "      <td>1917</td>\n",
       "      <td>1917</td>\n",
       "      <td>1917</td>\n",
       "    </tr>\n",
       "    <tr>\n",
       "      <th>5</th>\n",
       "      <td>1464</td>\n",
       "      <td>1464</td>\n",
       "      <td>1464</td>\n",
       "    </tr>\n",
       "    <tr>\n",
       "      <th>6</th>\n",
       "      <td>264</td>\n",
       "      <td>264</td>\n",
       "      <td>264</td>\n",
       "    </tr>\n",
       "  </tbody>\n",
       "</table>\n",
       "</div>"
      ],
      "text/plain": [
       "                               SD22NQQ1  SD22NQQ2  SD22NQQ3\n",
       "Cluster size, $N_\\text{mols}$                              \n",
       "1                                   900       900       900\n",
       "2                                  1470      1470      1470\n",
       "3                                  2001      2001      2001\n",
       "4                                  1917      1917      1917\n",
       "5                                  1464      1464      1464\n",
       "6                                   264       264       264"
      ]
     },
     "execution_count": 8,
     "metadata": {},
     "output_type": "execute_result"
    }
   ],
   "source": [
    "import pickle\n",
    "\n",
    "pkl_name = './SD22NQQ_xyz.pkl'\n",
    "\n",
    "with open(pkl_name, 'rb') as f:\n",
    "    SD22NQQ_dict = pickle.load(f)\n",
    "\n",
    "SD22NQQ1_stats = np.histogram(np.array([at.info['Nmols'] for at in SD22NQQ_dict['SD22NQQ1']]), [1,2,3,4,5,6,7])[0]\n",
    "SD22NQQ2_stats = np.histogram(np.array([at.info['Nmols'] for at in SD22NQQ_dict['SD22NQQ2']]), [1,2,3,4,5,6,7])[0]\n",
    "SD22NQQ3_stats = np.histogram(np.array([at.info['Nmols'] for at in SD22NQQ_dict['SD22NQQ3']]), [1,2,3,4,5,6,7])[0]\n",
    "SD22NQQ_stats_dict = {'SD22NQQ1':SD22NQQ1_stats, 'SD22NQQ2':SD22NQQ2_stats, 'SD22NQQ3':SD22NQQ3_stats}\n",
    "\n",
    "SD22NQQ_stats_df = pd.DataFrame(SD22NQQ_stats_dict)\n",
    "SD22NQQ_stats_df.index.name = 'Cluster size, $N_\\\\text{mols}$'\n",
    "SD22NQQ_stats_df.index += 1\n",
    "SD22NQQ_stats_df"
   ]
  },
  {
   "cell_type": "markdown",
   "id": "cc381bff",
   "metadata": {},
   "source": [
    "### Molecular composition"
   ]
  },
  {
   "cell_type": "code",
   "execution_count": 23,
   "id": "031f15dc",
   "metadata": {},
   "outputs": [
    {
     "name": "stdout",
     "output_type": "stream",
     "text": [
      "SD22NQQ1:\n"
     ]
    },
    {
     "data": {
      "text/html": [
       "<div>\n",
       "<style scoped>\n",
       "    .dataframe tbody tr th:only-of-type {\n",
       "        vertical-align: middle;\n",
       "    }\n",
       "\n",
       "    .dataframe tbody tr th {\n",
       "        vertical-align: top;\n",
       "    }\n",
       "\n",
       "    .dataframe thead th {\n",
       "        text-align: right;\n",
       "    }\n",
       "</style>\n",
       "<table border=\"1\" class=\"dataframe\">\n",
       "  <thead>\n",
       "    <tr style=\"text-align: right;\">\n",
       "      <th></th>\n",
       "      <th>EMC</th>\n",
       "      <th>EC</th>\n",
       "      <th>EC and EMC and other</th>\n",
       "      <th>EC or EMC and other</th>\n",
       "      <th>Other</th>\n",
       "    </tr>\n",
       "  </thead>\n",
       "  <tbody>\n",
       "    <tr>\n",
       "      <th>1</th>\n",
       "      <td>150</td>\n",
       "      <td>150</td>\n",
       "      <td>0</td>\n",
       "      <td>0</td>\n",
       "      <td>600</td>\n",
       "    </tr>\n",
       "    <tr>\n",
       "      <th>2</th>\n",
       "      <td>70</td>\n",
       "      <td>70</td>\n",
       "      <td>70</td>\n",
       "      <td>560</td>\n",
       "      <td>700</td>\n",
       "    </tr>\n",
       "    <tr>\n",
       "      <th>3</th>\n",
       "      <td>40</td>\n",
       "      <td>40</td>\n",
       "      <td>220</td>\n",
       "      <td>1073</td>\n",
       "      <td>628</td>\n",
       "    </tr>\n",
       "    <tr>\n",
       "      <th>4</th>\n",
       "      <td>41</td>\n",
       "      <td>200</td>\n",
       "      <td>189</td>\n",
       "      <td>706</td>\n",
       "      <td>781</td>\n",
       "    </tr>\n",
       "    <tr>\n",
       "      <th>5</th>\n",
       "      <td>25</td>\n",
       "      <td>322</td>\n",
       "      <td>139</td>\n",
       "      <td>344</td>\n",
       "      <td>634</td>\n",
       "    </tr>\n",
       "    <tr>\n",
       "      <th>6</th>\n",
       "      <td>0</td>\n",
       "      <td>0</td>\n",
       "      <td>144</td>\n",
       "      <td>110</td>\n",
       "      <td>10</td>\n",
       "    </tr>\n",
       "  </tbody>\n",
       "</table>\n",
       "</div>"
      ],
      "text/plain": [
       "   EMC   EC  EC and EMC and other  EC or EMC and other  Other\n",
       "1  150  150                     0                    0    600\n",
       "2   70   70                    70                  560    700\n",
       "3   40   40                   220                 1073    628\n",
       "4   41  200                   189                  706    781\n",
       "5   25  322                   139                  344    634\n",
       "6    0    0                   144                  110     10"
      ]
     },
     "execution_count": 23,
     "metadata": {},
     "output_type": "execute_result"
    }
   ],
   "source": [
    "data = 'SD22NQQ1'\n",
    "print(f'{data}:')\n",
    "comp = collect_comp(SD22NQQ_dict[data])\n",
    "SD22NQQ1_comp_flat = flatten_comp(comp)\n",
    "SD22NQQ1_comp_flat"
   ]
  },
  {
   "cell_type": "code",
   "execution_count": 24,
   "id": "35385108",
   "metadata": {},
   "outputs": [
    {
     "name": "stdout",
     "output_type": "stream",
     "text": [
      "SD22NQQ2:\n"
     ]
    },
    {
     "data": {
      "text/html": [
       "<div>\n",
       "<style scoped>\n",
       "    .dataframe tbody tr th:only-of-type {\n",
       "        vertical-align: middle;\n",
       "    }\n",
       "\n",
       "    .dataframe tbody tr th {\n",
       "        vertical-align: top;\n",
       "    }\n",
       "\n",
       "    .dataframe thead th {\n",
       "        text-align: right;\n",
       "    }\n",
       "</style>\n",
       "<table border=\"1\" class=\"dataframe\">\n",
       "  <thead>\n",
       "    <tr style=\"text-align: right;\">\n",
       "      <th></th>\n",
       "      <th>EMC</th>\n",
       "      <th>EC</th>\n",
       "      <th>EC and EMC and other</th>\n",
       "      <th>EC or EMC and other</th>\n",
       "      <th>Other</th>\n",
       "    </tr>\n",
       "  </thead>\n",
       "  <tbody>\n",
       "    <tr>\n",
       "      <th>1</th>\n",
       "      <td>150</td>\n",
       "      <td>150</td>\n",
       "      <td>0</td>\n",
       "      <td>0</td>\n",
       "      <td>600</td>\n",
       "    </tr>\n",
       "    <tr>\n",
       "      <th>2</th>\n",
       "      <td>70</td>\n",
       "      <td>70</td>\n",
       "      <td>70</td>\n",
       "      <td>560</td>\n",
       "      <td>700</td>\n",
       "    </tr>\n",
       "    <tr>\n",
       "      <th>3</th>\n",
       "      <td>40</td>\n",
       "      <td>40</td>\n",
       "      <td>220</td>\n",
       "      <td>1073</td>\n",
       "      <td>628</td>\n",
       "    </tr>\n",
       "    <tr>\n",
       "      <th>4</th>\n",
       "      <td>41</td>\n",
       "      <td>200</td>\n",
       "      <td>189</td>\n",
       "      <td>706</td>\n",
       "      <td>781</td>\n",
       "    </tr>\n",
       "    <tr>\n",
       "      <th>5</th>\n",
       "      <td>25</td>\n",
       "      <td>322</td>\n",
       "      <td>139</td>\n",
       "      <td>344</td>\n",
       "      <td>634</td>\n",
       "    </tr>\n",
       "    <tr>\n",
       "      <th>6</th>\n",
       "      <td>0</td>\n",
       "      <td>0</td>\n",
       "      <td>144</td>\n",
       "      <td>110</td>\n",
       "      <td>10</td>\n",
       "    </tr>\n",
       "  </tbody>\n",
       "</table>\n",
       "</div>"
      ],
      "text/plain": [
       "   EMC   EC  EC and EMC and other  EC or EMC and other  Other\n",
       "1  150  150                     0                    0    600\n",
       "2   70   70                    70                  560    700\n",
       "3   40   40                   220                 1073    628\n",
       "4   41  200                   189                  706    781\n",
       "5   25  322                   139                  344    634\n",
       "6    0    0                   144                  110     10"
      ]
     },
     "execution_count": 24,
     "metadata": {},
     "output_type": "execute_result"
    }
   ],
   "source": [
    "data = 'SD22NQQ2'\n",
    "print(f'{data}:')\n",
    "comp = collect_comp(SD22NQQ_dict[data])\n",
    "SD22NQQ1_comp_flat = flatten_comp(comp)\n",
    "SD22NQQ1_comp_flat"
   ]
  },
  {
   "cell_type": "code",
   "execution_count": 25,
   "id": "6629d45c",
   "metadata": {},
   "outputs": [
    {
     "name": "stdout",
     "output_type": "stream",
     "text": [
      "SD22NQQ3:\n"
     ]
    },
    {
     "data": {
      "text/html": [
       "<div>\n",
       "<style scoped>\n",
       "    .dataframe tbody tr th:only-of-type {\n",
       "        vertical-align: middle;\n",
       "    }\n",
       "\n",
       "    .dataframe tbody tr th {\n",
       "        vertical-align: top;\n",
       "    }\n",
       "\n",
       "    .dataframe thead th {\n",
       "        text-align: right;\n",
       "    }\n",
       "</style>\n",
       "<table border=\"1\" class=\"dataframe\">\n",
       "  <thead>\n",
       "    <tr style=\"text-align: right;\">\n",
       "      <th></th>\n",
       "      <th>EMC</th>\n",
       "      <th>EC</th>\n",
       "      <th>EC and EMC and other</th>\n",
       "      <th>EC or EMC and other</th>\n",
       "      <th>Other</th>\n",
       "    </tr>\n",
       "  </thead>\n",
       "  <tbody>\n",
       "    <tr>\n",
       "      <th>1</th>\n",
       "      <td>150</td>\n",
       "      <td>150</td>\n",
       "      <td>0</td>\n",
       "      <td>0</td>\n",
       "      <td>600</td>\n",
       "    </tr>\n",
       "    <tr>\n",
       "      <th>2</th>\n",
       "      <td>70</td>\n",
       "      <td>70</td>\n",
       "      <td>70</td>\n",
       "      <td>560</td>\n",
       "      <td>700</td>\n",
       "    </tr>\n",
       "    <tr>\n",
       "      <th>3</th>\n",
       "      <td>40</td>\n",
       "      <td>40</td>\n",
       "      <td>220</td>\n",
       "      <td>1073</td>\n",
       "      <td>628</td>\n",
       "    </tr>\n",
       "    <tr>\n",
       "      <th>4</th>\n",
       "      <td>41</td>\n",
       "      <td>200</td>\n",
       "      <td>189</td>\n",
       "      <td>706</td>\n",
       "      <td>781</td>\n",
       "    </tr>\n",
       "    <tr>\n",
       "      <th>5</th>\n",
       "      <td>25</td>\n",
       "      <td>322</td>\n",
       "      <td>139</td>\n",
       "      <td>344</td>\n",
       "      <td>634</td>\n",
       "    </tr>\n",
       "    <tr>\n",
       "      <th>6</th>\n",
       "      <td>0</td>\n",
       "      <td>0</td>\n",
       "      <td>144</td>\n",
       "      <td>110</td>\n",
       "      <td>10</td>\n",
       "    </tr>\n",
       "  </tbody>\n",
       "</table>\n",
       "</div>"
      ],
      "text/plain": [
       "   EMC   EC  EC and EMC and other  EC or EMC and other  Other\n",
       "1  150  150                     0                    0    600\n",
       "2   70   70                    70                  560    700\n",
       "3   40   40                   220                 1073    628\n",
       "4   41  200                   189                  706    781\n",
       "5   25  322                   139                  344    634\n",
       "6    0    0                   144                  110     10"
      ]
     },
     "execution_count": 25,
     "metadata": {},
     "output_type": "execute_result"
    }
   ],
   "source": [
    "data = 'SD22NQQ3'\n",
    "print(f'{data}:')\n",
    "comp = collect_comp(SD22NQQ_dict[data])\n",
    "SD22NQQ1_comp_flat = flatten_comp(comp)\n",
    "SD22NQQ1_comp_flat"
   ]
  },
  {
   "cell_type": "markdown",
   "id": "9dbc7b6e",
   "metadata": {},
   "source": [
    "## Medium data set (SD22NQ)"
   ]
  },
  {
   "cell_type": "code",
   "execution_count": null,
   "id": "3db4657e",
   "metadata": {},
   "outputs": [],
   "source": [
    "import pickle\n",
    "from ase.io import read\n",
    "\n",
    "pkl_name = './SD22NQ_xyz.pkl'\n",
    "\n",
    "SD22NQ1 = read(f'{static_path}/SDN22NQ/wB97X/SEED1/DSET1/train_data/SD22NQ1_wB97XD3BJ_Psi4.xyz', ':')\n",
    "SD22NQ2 = read(f'{static_path}/SDN22NQ/wB97X/SEED1/DSET2/train_data/SD22NQ2_wB97XD3BJ_Psi4.xyz', '3:') # first three structures are single atoms\n",
    "SD22NQ3 = read(f'{static_path}/SDN22NQ/wB97X/SEED1/DSET3/train_data/SD22NQ3_wB97XD3BJ_Psi4.xyz', '3:') # first three structures are single atoms\n",
    "\n",
    "xyz_dict = {'SD22NQ1':SD22NQ1, 'SD22NQ2':SD22NQ2, 'SD22NQ3':SD22NQ3}\n",
    "with open(pkl_name, 'wb') as f:\n",
    "    pickle.dump(xyz_dict, f)"
   ]
  },
  {
   "cell_type": "markdown",
   "id": "3170db17",
   "metadata": {},
   "source": [
    "### Cluster composition"
   ]
  },
  {
   "cell_type": "code",
   "execution_count": 4,
   "id": "492a9fc3",
   "metadata": {},
   "outputs": [
    {
     "data": {
      "text/html": [
       "<div>\n",
       "<style scoped>\n",
       "    .dataframe tbody tr th:only-of-type {\n",
       "        vertical-align: middle;\n",
       "    }\n",
       "\n",
       "    .dataframe tbody tr th {\n",
       "        vertical-align: top;\n",
       "    }\n",
       "\n",
       "    .dataframe thead th {\n",
       "        text-align: right;\n",
       "    }\n",
       "</style>\n",
       "<table border=\"1\" class=\"dataframe\">\n",
       "  <thead>\n",
       "    <tr style=\"text-align: right;\">\n",
       "      <th></th>\n",
       "      <th>SD22NQ1</th>\n",
       "      <th>SD22NQ2</th>\n",
       "      <th>SD22NQ3</th>\n",
       "    </tr>\n",
       "    <tr>\n",
       "      <th>Cluster size, $N_\\text{mols}$</th>\n",
       "      <th></th>\n",
       "      <th></th>\n",
       "      <th></th>\n",
       "    </tr>\n",
       "  </thead>\n",
       "  <tbody>\n",
       "    <tr>\n",
       "      <th>1</th>\n",
       "      <td>7880</td>\n",
       "      <td>7880</td>\n",
       "      <td>7880</td>\n",
       "    </tr>\n",
       "    <tr>\n",
       "      <th>2</th>\n",
       "      <td>18253</td>\n",
       "      <td>18253</td>\n",
       "      <td>18253</td>\n",
       "    </tr>\n",
       "    <tr>\n",
       "      <th>3</th>\n",
       "      <td>10176</td>\n",
       "      <td>10176</td>\n",
       "      <td>10176</td>\n",
       "    </tr>\n",
       "    <tr>\n",
       "      <th>4</th>\n",
       "      <td>4787</td>\n",
       "      <td>4787</td>\n",
       "      <td>4787</td>\n",
       "    </tr>\n",
       "    <tr>\n",
       "      <th>5</th>\n",
       "      <td>1464</td>\n",
       "      <td>1464</td>\n",
       "      <td>1464</td>\n",
       "    </tr>\n",
       "    <tr>\n",
       "      <th>6</th>\n",
       "      <td>264</td>\n",
       "      <td>264</td>\n",
       "      <td>264</td>\n",
       "    </tr>\n",
       "  </tbody>\n",
       "</table>\n",
       "</div>"
      ],
      "text/plain": [
       "                               SD22NQ1  SD22NQ2  SD22NQ3\n",
       "Cluster size, $N_\\text{mols}$                           \n",
       "1                                 7880     7880     7880\n",
       "2                                18253    18253    18253\n",
       "3                                10176    10176    10176\n",
       "4                                 4787     4787     4787\n",
       "5                                 1464     1464     1464\n",
       "6                                  264      264      264"
      ]
     },
     "execution_count": 4,
     "metadata": {},
     "output_type": "execute_result"
    }
   ],
   "source": [
    "import pickle\n",
    "\n",
    "pkl_name = './SD22NQ_xyz.pkl'\n",
    "\n",
    "with open(pkl_name, 'rb') as f:\n",
    "    SD22NQ_dict = pickle.load(f)\n",
    "\n",
    "SD22NQ1_stats = np.histogram(np.array([at.info['Nmols'] for at in SD22NQ_dict['SD22NQ1']]), [1,2,3,4,5,6,7])[0]\n",
    "SD22NQ2_stats = np.histogram(np.array([at.info['Nmols'] for at in SD22NQ_dict['SD22NQ2']]), [1,2,3,4,5,6,7])[0]\n",
    "SD22NQ3_stats = np.histogram(np.array([at.info['Nmols'] for at in SD22NQ_dict['SD22NQ3']]), [1,2,3,4,5,6,7])[0]\n",
    "SD22NQ_stats_dict = {'SD22NQ1':SD22NQ1_stats, 'SD22NQ2':SD22NQ2_stats, 'SD22NQ3':SD22NQ3_stats}\n",
    "\n",
    "SD22NQ_stats_df = pd.DataFrame(SD22NQ_stats_dict)\n",
    "SD22NQ_stats_df.index.name = 'Cluster size, $N_\\\\text{mols}$'\n",
    "SD22NQ_stats_df.index += 1\n",
    "SD22NQ_stats_df"
   ]
  },
  {
   "cell_type": "markdown",
   "id": "17e8c5f2",
   "metadata": {},
   "source": [
    "### Molecular composition"
   ]
  },
  {
   "cell_type": "code",
   "execution_count": 19,
   "id": "ca0ba158",
   "metadata": {},
   "outputs": [
    {
     "name": "stdout",
     "output_type": "stream",
     "text": [
      "SD22NQ1:\n"
     ]
    },
    {
     "data": {
      "text/html": [
       "<div>\n",
       "<style scoped>\n",
       "    .dataframe tbody tr th:only-of-type {\n",
       "        vertical-align: middle;\n",
       "    }\n",
       "\n",
       "    .dataframe tbody tr th {\n",
       "        vertical-align: top;\n",
       "    }\n",
       "\n",
       "    .dataframe thead th {\n",
       "        text-align: right;\n",
       "    }\n",
       "</style>\n",
       "<table border=\"1\" class=\"dataframe\">\n",
       "  <thead>\n",
       "    <tr style=\"text-align: right;\">\n",
       "      <th></th>\n",
       "      <th>EMC</th>\n",
       "      <th>EC</th>\n",
       "      <th>EC and EMC and other</th>\n",
       "      <th>EC or EMC and other</th>\n",
       "      <th>Other</th>\n",
       "    </tr>\n",
       "  </thead>\n",
       "  <tbody>\n",
       "    <tr>\n",
       "      <th>1</th>\n",
       "      <td>887</td>\n",
       "      <td>2354</td>\n",
       "      <td>0</td>\n",
       "      <td>0</td>\n",
       "      <td>4639</td>\n",
       "    </tr>\n",
       "    <tr>\n",
       "      <th>2</th>\n",
       "      <td>1069</td>\n",
       "      <td>190</td>\n",
       "      <td>1092</td>\n",
       "      <td>9088</td>\n",
       "      <td>6814</td>\n",
       "    </tr>\n",
       "    <tr>\n",
       "      <th>3</th>\n",
       "      <td>178</td>\n",
       "      <td>1091</td>\n",
       "      <td>516</td>\n",
       "      <td>2433</td>\n",
       "      <td>5958</td>\n",
       "    </tr>\n",
       "    <tr>\n",
       "      <th>4</th>\n",
       "      <td>41</td>\n",
       "      <td>1528</td>\n",
       "      <td>189</td>\n",
       "      <td>706</td>\n",
       "      <td>2323</td>\n",
       "    </tr>\n",
       "    <tr>\n",
       "      <th>5</th>\n",
       "      <td>25</td>\n",
       "      <td>322</td>\n",
       "      <td>139</td>\n",
       "      <td>344</td>\n",
       "      <td>634</td>\n",
       "    </tr>\n",
       "    <tr>\n",
       "      <th>6</th>\n",
       "      <td>0</td>\n",
       "      <td>0</td>\n",
       "      <td>144</td>\n",
       "      <td>110</td>\n",
       "      <td>10</td>\n",
       "    </tr>\n",
       "  </tbody>\n",
       "</table>\n",
       "</div>"
      ],
      "text/plain": [
       "    EMC    EC  EC and EMC and other  EC or EMC and other  Other\n",
       "1   887  2354                     0                    0   4639\n",
       "2  1069   190                  1092                 9088   6814\n",
       "3   178  1091                   516                 2433   5958\n",
       "4    41  1528                   189                  706   2323\n",
       "5    25   322                   139                  344    634\n",
       "6     0     0                   144                  110     10"
      ]
     },
     "execution_count": 19,
     "metadata": {},
     "output_type": "execute_result"
    }
   ],
   "source": [
    "data = 'SD22NQ1'\n",
    "print(f'{data}:')\n",
    "comp = collect_comp(SD22NQ_dict[data])\n",
    "SD22NQ1_comp_flat = flatten_comp(comp)\n",
    "SD22NQ1_comp_flat"
   ]
  },
  {
   "cell_type": "code",
   "execution_count": 20,
   "id": "e167fab2",
   "metadata": {},
   "outputs": [
    {
     "name": "stdout",
     "output_type": "stream",
     "text": [
      "SD22NQ2:\n"
     ]
    },
    {
     "data": {
      "text/html": [
       "<div>\n",
       "<style scoped>\n",
       "    .dataframe tbody tr th:only-of-type {\n",
       "        vertical-align: middle;\n",
       "    }\n",
       "\n",
       "    .dataframe tbody tr th {\n",
       "        vertical-align: top;\n",
       "    }\n",
       "\n",
       "    .dataframe thead th {\n",
       "        text-align: right;\n",
       "    }\n",
       "</style>\n",
       "<table border=\"1\" class=\"dataframe\">\n",
       "  <thead>\n",
       "    <tr style=\"text-align: right;\">\n",
       "      <th></th>\n",
       "      <th>EMC</th>\n",
       "      <th>EC</th>\n",
       "      <th>EC and EMC and other</th>\n",
       "      <th>EC or EMC and other</th>\n",
       "      <th>Other</th>\n",
       "    </tr>\n",
       "  </thead>\n",
       "  <tbody>\n",
       "    <tr>\n",
       "      <th>1</th>\n",
       "      <td>887</td>\n",
       "      <td>2354</td>\n",
       "      <td>0</td>\n",
       "      <td>0</td>\n",
       "      <td>4639</td>\n",
       "    </tr>\n",
       "    <tr>\n",
       "      <th>2</th>\n",
       "      <td>1069</td>\n",
       "      <td>190</td>\n",
       "      <td>1092</td>\n",
       "      <td>9088</td>\n",
       "      <td>6814</td>\n",
       "    </tr>\n",
       "    <tr>\n",
       "      <th>3</th>\n",
       "      <td>178</td>\n",
       "      <td>1091</td>\n",
       "      <td>516</td>\n",
       "      <td>2433</td>\n",
       "      <td>5958</td>\n",
       "    </tr>\n",
       "    <tr>\n",
       "      <th>4</th>\n",
       "      <td>41</td>\n",
       "      <td>1528</td>\n",
       "      <td>189</td>\n",
       "      <td>706</td>\n",
       "      <td>2323</td>\n",
       "    </tr>\n",
       "    <tr>\n",
       "      <th>5</th>\n",
       "      <td>25</td>\n",
       "      <td>322</td>\n",
       "      <td>139</td>\n",
       "      <td>344</td>\n",
       "      <td>634</td>\n",
       "    </tr>\n",
       "    <tr>\n",
       "      <th>6</th>\n",
       "      <td>0</td>\n",
       "      <td>0</td>\n",
       "      <td>144</td>\n",
       "      <td>110</td>\n",
       "      <td>10</td>\n",
       "    </tr>\n",
       "  </tbody>\n",
       "</table>\n",
       "</div>"
      ],
      "text/plain": [
       "    EMC    EC  EC and EMC and other  EC or EMC and other  Other\n",
       "1   887  2354                     0                    0   4639\n",
       "2  1069   190                  1092                 9088   6814\n",
       "3   178  1091                   516                 2433   5958\n",
       "4    41  1528                   189                  706   2323\n",
       "5    25   322                   139                  344    634\n",
       "6     0     0                   144                  110     10"
      ]
     },
     "execution_count": 20,
     "metadata": {},
     "output_type": "execute_result"
    }
   ],
   "source": [
    "data = 'SD22NQ2'\n",
    "print(f'{data}:')\n",
    "comp = collect_comp(SD22NQ_dict[data])\n",
    "SD22NQ2_comp_flat = flatten_comp(comp)\n",
    "SD22NQ2_comp_flat"
   ]
  },
  {
   "cell_type": "code",
   "execution_count": 21,
   "id": "1558793a",
   "metadata": {},
   "outputs": [
    {
     "name": "stdout",
     "output_type": "stream",
     "text": [
      "SD22NQ3:\n"
     ]
    },
    {
     "data": {
      "text/html": [
       "<div>\n",
       "<style scoped>\n",
       "    .dataframe tbody tr th:only-of-type {\n",
       "        vertical-align: middle;\n",
       "    }\n",
       "\n",
       "    .dataframe tbody tr th {\n",
       "        vertical-align: top;\n",
       "    }\n",
       "\n",
       "    .dataframe thead th {\n",
       "        text-align: right;\n",
       "    }\n",
       "</style>\n",
       "<table border=\"1\" class=\"dataframe\">\n",
       "  <thead>\n",
       "    <tr style=\"text-align: right;\">\n",
       "      <th></th>\n",
       "      <th>EMC</th>\n",
       "      <th>EC</th>\n",
       "      <th>EC and EMC and other</th>\n",
       "      <th>EC or EMC and other</th>\n",
       "      <th>Other</th>\n",
       "    </tr>\n",
       "  </thead>\n",
       "  <tbody>\n",
       "    <tr>\n",
       "      <th>1</th>\n",
       "      <td>887</td>\n",
       "      <td>2354</td>\n",
       "      <td>0</td>\n",
       "      <td>0</td>\n",
       "      <td>4639</td>\n",
       "    </tr>\n",
       "    <tr>\n",
       "      <th>2</th>\n",
       "      <td>1069</td>\n",
       "      <td>190</td>\n",
       "      <td>1092</td>\n",
       "      <td>9088</td>\n",
       "      <td>6814</td>\n",
       "    </tr>\n",
       "    <tr>\n",
       "      <th>3</th>\n",
       "      <td>178</td>\n",
       "      <td>1091</td>\n",
       "      <td>516</td>\n",
       "      <td>2433</td>\n",
       "      <td>5958</td>\n",
       "    </tr>\n",
       "    <tr>\n",
       "      <th>4</th>\n",
       "      <td>41</td>\n",
       "      <td>1528</td>\n",
       "      <td>189</td>\n",
       "      <td>706</td>\n",
       "      <td>2323</td>\n",
       "    </tr>\n",
       "    <tr>\n",
       "      <th>5</th>\n",
       "      <td>25</td>\n",
       "      <td>322</td>\n",
       "      <td>139</td>\n",
       "      <td>344</td>\n",
       "      <td>634</td>\n",
       "    </tr>\n",
       "    <tr>\n",
       "      <th>6</th>\n",
       "      <td>0</td>\n",
       "      <td>0</td>\n",
       "      <td>144</td>\n",
       "      <td>110</td>\n",
       "      <td>10</td>\n",
       "    </tr>\n",
       "  </tbody>\n",
       "</table>\n",
       "</div>"
      ],
      "text/plain": [
       "    EMC    EC  EC and EMC and other  EC or EMC and other  Other\n",
       "1   887  2354                     0                    0   4639\n",
       "2  1069   190                  1092                 9088   6814\n",
       "3   178  1091                   516                 2433   5958\n",
       "4    41  1528                   189                  706   2323\n",
       "5    25   322                   139                  344    634\n",
       "6     0     0                   144                  110     10"
      ]
     },
     "execution_count": 21,
     "metadata": {},
     "output_type": "execute_result"
    }
   ],
   "source": [
    "data = 'SD22NQ3'\n",
    "print(f'{data}:')\n",
    "comp = collect_comp(SD22NQ_dict[data])\n",
    "SD22NQ3_comp_flat = flatten_comp(comp)\n",
    "SD22NQ3_comp_flat"
   ]
  },
  {
   "cell_type": "markdown",
   "id": "a9bd9e21",
   "metadata": {},
   "source": [
    "## Large data set (SD22N)"
   ]
  },
  {
   "cell_type": "code",
   "execution_count": 293,
   "id": "9cd2d1c6",
   "metadata": {},
   "outputs": [],
   "source": [
    "import pickle\n",
    "from ase.io import read\n",
    "\n",
    "pkl_name = './SD22N_xyz.pkl'\n",
    "\n",
    "SD22N = read(f'{static_path}/SDN22N/wB97X/SEED1/DSET1/train_data/SD22N_wB97XD3BJ_Psi4.xyz', ':')\n",
    "\n",
    "xyz_dict = {'SD22N':SD22N}\n",
    "with open(pkl_name, 'wb') as f:\n",
    "    pickle.dump(xyz_dict, f)"
   ]
  },
  {
   "cell_type": "markdown",
   "id": "ab97b275",
   "metadata": {},
   "source": [
    "### Cluster composition"
   ]
  },
  {
   "cell_type": "code",
   "execution_count": 2,
   "id": "c88f8805",
   "metadata": {},
   "outputs": [
    {
     "data": {
      "text/html": [
       "<div>\n",
       "<style scoped>\n",
       "    .dataframe tbody tr th:only-of-type {\n",
       "        vertical-align: middle;\n",
       "    }\n",
       "\n",
       "    .dataframe tbody tr th {\n",
       "        vertical-align: top;\n",
       "    }\n",
       "\n",
       "    .dataframe thead th {\n",
       "        text-align: right;\n",
       "    }\n",
       "</style>\n",
       "<table border=\"1\" class=\"dataframe\">\n",
       "  <thead>\n",
       "    <tr style=\"text-align: right;\">\n",
       "      <th></th>\n",
       "      <th>SD22N</th>\n",
       "    </tr>\n",
       "    <tr>\n",
       "      <th>Cluster size, $N_\\text{mols}$</th>\n",
       "      <th></th>\n",
       "    </tr>\n",
       "  </thead>\n",
       "  <tbody>\n",
       "    <tr>\n",
       "      <th>1</th>\n",
       "      <td>77880</td>\n",
       "    </tr>\n",
       "    <tr>\n",
       "      <th>2</th>\n",
       "      <td>82253</td>\n",
       "    </tr>\n",
       "    <tr>\n",
       "      <th>3</th>\n",
       "      <td>37176</td>\n",
       "    </tr>\n",
       "    <tr>\n",
       "      <th>4</th>\n",
       "      <td>17787</td>\n",
       "    </tr>\n",
       "    <tr>\n",
       "      <th>5</th>\n",
       "      <td>6464</td>\n",
       "    </tr>\n",
       "    <tr>\n",
       "      <th>6</th>\n",
       "      <td>264</td>\n",
       "    </tr>\n",
       "  </tbody>\n",
       "</table>\n",
       "</div>"
      ],
      "text/plain": [
       "                               SD22N\n",
       "Cluster size, $N_\\text{mols}$       \n",
       "1                              77880\n",
       "2                              82253\n",
       "3                              37176\n",
       "4                              17787\n",
       "5                               6464\n",
       "6                                264"
      ]
     },
     "execution_count": 2,
     "metadata": {},
     "output_type": "execute_result"
    }
   ],
   "source": [
    "import pickle\n",
    "\n",
    "pkl_name = './SD22N_xyz.pkl'\n",
    "\n",
    "with open(pkl_name, 'rb') as f:\n",
    "    SD22N_dict = pickle.load(f)\n",
    "\n",
    "SD22N_stats = np.histogram(np.array([at.info['Nmols'] for at in SD22N_dict['SD22N']]), [1,2,3,4,5,6,7])[0]\n",
    "SD22N_stats_dict = {'SD22N':SD22N_stats}\n",
    "\n",
    "SD22N_stats_df = pd.DataFrame(SD22N_stats_dict)\n",
    "SD22N_stats_df.index.name = 'Cluster size, $N_\\\\text{mols}$'\n",
    "SD22N_stats_df.index += 1\n",
    "SD22N_stats_df"
   ]
  },
  {
   "cell_type": "markdown",
   "id": "bc01ef0a",
   "metadata": {},
   "source": [
    "### Molecular composition"
   ]
  },
  {
   "cell_type": "code",
   "execution_count": 22,
   "id": "063a778f",
   "metadata": {},
   "outputs": [
    {
     "name": "stdout",
     "output_type": "stream",
     "text": [
      "SD22N:\n"
     ]
    },
    {
     "data": {
      "text/html": [
       "<div>\n",
       "<style scoped>\n",
       "    .dataframe tbody tr th:only-of-type {\n",
       "        vertical-align: middle;\n",
       "    }\n",
       "\n",
       "    .dataframe tbody tr th {\n",
       "        vertical-align: top;\n",
       "    }\n",
       "\n",
       "    .dataframe thead th {\n",
       "        text-align: right;\n",
       "    }\n",
       "</style>\n",
       "<table border=\"1\" class=\"dataframe\">\n",
       "  <thead>\n",
       "    <tr style=\"text-align: right;\">\n",
       "      <th></th>\n",
       "      <th>EMC</th>\n",
       "      <th>EC</th>\n",
       "      <th>EC and EMC and other</th>\n",
       "      <th>EC or EMC and other</th>\n",
       "      <th>Other</th>\n",
       "    </tr>\n",
       "  </thead>\n",
       "  <tbody>\n",
       "    <tr>\n",
       "      <th>1</th>\n",
       "      <td>887</td>\n",
       "      <td>72354</td>\n",
       "      <td>0</td>\n",
       "      <td>0</td>\n",
       "      <td>4639</td>\n",
       "    </tr>\n",
       "    <tr>\n",
       "      <th>2</th>\n",
       "      <td>1069</td>\n",
       "      <td>40190</td>\n",
       "      <td>1092</td>\n",
       "      <td>9088</td>\n",
       "      <td>30814</td>\n",
       "    </tr>\n",
       "    <tr>\n",
       "      <th>3</th>\n",
       "      <td>178</td>\n",
       "      <td>23091</td>\n",
       "      <td>516</td>\n",
       "      <td>2433</td>\n",
       "      <td>10958</td>\n",
       "    </tr>\n",
       "    <tr>\n",
       "      <th>4</th>\n",
       "      <td>41</td>\n",
       "      <td>11528</td>\n",
       "      <td>189</td>\n",
       "      <td>706</td>\n",
       "      <td>5323</td>\n",
       "    </tr>\n",
       "    <tr>\n",
       "      <th>5</th>\n",
       "      <td>25</td>\n",
       "      <td>5322</td>\n",
       "      <td>139</td>\n",
       "      <td>344</td>\n",
       "      <td>634</td>\n",
       "    </tr>\n",
       "    <tr>\n",
       "      <th>6</th>\n",
       "      <td>0</td>\n",
       "      <td>0</td>\n",
       "      <td>144</td>\n",
       "      <td>110</td>\n",
       "      <td>10</td>\n",
       "    </tr>\n",
       "  </tbody>\n",
       "</table>\n",
       "</div>"
      ],
      "text/plain": [
       "    EMC     EC  EC and EMC and other  EC or EMC and other  Other\n",
       "1   887  72354                     0                    0   4639\n",
       "2  1069  40190                  1092                 9088  30814\n",
       "3   178  23091                   516                 2433  10958\n",
       "4    41  11528                   189                  706   5323\n",
       "5    25   5322                   139                  344    634\n",
       "6     0      0                   144                  110     10"
      ]
     },
     "execution_count": 22,
     "metadata": {},
     "output_type": "execute_result"
    }
   ],
   "source": [
    "data = 'SD22N'\n",
    "print(f'{data}:')\n",
    "comp = collect_comp(SD22N_dict[data])\n",
    "SD22N_comp_flat = flatten_comp(comp)\n",
    "SD22N_comp_flat"
   ]
  },
  {
   "cell_type": "markdown",
   "id": "71de5304",
   "metadata": {},
   "source": [
    "## Overall statistics"
   ]
  },
  {
   "cell_type": "markdown",
   "id": "58d49bee",
   "metadata": {},
   "source": [
    "### Expected cluster sizes"
   ]
  },
  {
   "cell_type": "code",
   "execution_count": 12,
   "id": "c42d75ff",
   "metadata": {},
   "outputs": [],
   "source": [
    "dfs = {\n",
    "    'SD22NQQ':SD22NQQ_stats_df['SD22NQQ1'],\n",
    "    'SD22NQ':SD22NQ_stats_df['SD22NQ1'],\n",
    "    'SD22N':SD22N_stats_df['SD22N'],\n",
    "}\n",
    "stats_df = pd.concat(dfs.values(), axis=1, keys=dfs.keys())"
   ]
  },
  {
   "cell_type": "code",
   "execution_count": 27,
   "id": "f207f7b4",
   "metadata": {},
   "outputs": [
    {
     "name": "stdout",
     "output_type": "stream",
     "text": [
      "[1 2 3 4 5 6]\n",
      "SD22NQQ    3.30\n",
      "SD22NQ     2.40\n",
      "SD22N      2.07\n",
      "dtype: float64\n",
      "SD22NQQ    1.334166\n",
      "SD22NQ     1.063015\n",
      "SD22N      1.055983\n",
      "dtype: float64\n"
     ]
    }
   ],
   "source": [
    "tot = stats_df.aggregate('sum', axis=0)\n",
    "stats_dist_df = stats_df/tot\n",
    "clusters = np.arange(1, len(stats_dist_df)+1)\n",
    "print(clusters)\n",
    "expectation = (stats_dist_df*clusters[:,None]).aggregate('sum', axis=0).round(decimals=2)\n",
    "second_moment = (stats_dist_df*clusters[:,None]**2).aggregate('sum', axis=0).round(decimals=2)\n",
    "variance = second_moment-expectation**2\n",
    "print(expectation)\n",
    "print(variance**0.5)\n",
    "SD22NQQ_cluster_size, SD22NQ_cluster_size, SD22N_cluster_size = expectation"
   ]
  },
  {
   "cell_type": "code",
   "execution_count": 28,
   "id": "c577309e",
   "metadata": {},
   "outputs": [
    {
     "data": {
      "text/plain": [
       "SD22NQQ    8.162400\n",
       "SD22NQ     5.418552\n",
       "SD22N      4.057736\n",
       "dtype: float64"
      ]
     },
     "execution_count": 28,
     "metadata": {},
     "output_type": "execute_result"
    }
   ],
   "source": [
    "a = expectation**2/variance**0.5\n",
    "a"
   ]
  },
  {
   "cell_type": "code",
   "execution_count": 29,
   "id": "20c4c2a4",
   "metadata": {},
   "outputs": [
    {
     "data": {
      "text/plain": [
       "SD22NQQ    2.473455\n",
       "SD22NQ     2.257730\n",
       "SD22N      1.960259\n",
       "dtype: float64"
      ]
     },
     "execution_count": 29,
     "metadata": {},
     "output_type": "execute_result"
    }
   ],
   "source": [
    "l = expectation/variance**0.5\n",
    "l"
   ]
  },
  {
   "cell_type": "markdown",
   "id": "24c68054",
   "metadata": {},
   "source": [
    "### Visual distributions"
   ]
  },
  {
   "cell_type": "code",
   "execution_count": 31,
   "id": "2e352a64",
   "metadata": {},
   "outputs": [
    {
     "data": {
      "text/plain": [
       "<matplotlib.legend.Legend at 0x730fb9c3b910>"
      ]
     },
     "execution_count": 31,
     "metadata": {},
     "output_type": "execute_result"
    },
    {
     "data": {
      "image/png": "[encoded data removed]",
      "text/plain": [
       "<Figure size 1440x1152 with 4 Axes>"
      ]
     },
     "metadata": {
      "needs_background": "light"
     },
     "output_type": "display_data"
    }
   ],
   "source": [
    "fsize = 26\n",
    "plt.rcParams.update({'font.size': fsize})\n",
    "\n",
    "fig, axs = plt.subplots(2,2, figsize=(10*2, 8*2), sharey=False)\n",
    "comps = {\n",
    "    'SD22NQQ':SD22NQQ1_comp_flat,\n",
    "    'SD22NQ':SD22NQ1_comp_flat,\n",
    "    'SD22N':SD22N_comp_flat,\n",
    "}\n",
    "axs = axs.ravel()\n",
    "for i, (ax, (name, data)) in enumerate(zip(axs, comps.items())):\n",
    "    d = data/1e3\n",
    "    if i == 0:\n",
    "        ax.set_ylim([0,4])\n",
    "    elif i == 1:\n",
    "        ax.set_ylim([0,20])\n",
    "    else:\n",
    "        ax.set_ylim([0,100])\n",
    "\n",
    "    d.plot.bar(ax=ax, legend=False, stacked=True, rot=0)\n",
    "    #ax.set_yscale('log')\n",
    "    ax.legend(fontsize=fsize-4, ncols=1)\n",
    "    ax.set_title(name)\n",
    "\n",
    "axs[0].set_ylabel('Count /$10^3$')\n",
    "\n",
    "axs[-1].set_title('Distribution of cluster sizes')\n",
    "scaled_stats_df = stats_df/1e3\n",
    "scaled_stats_df[['SD22N', 'SD22NQ', 'SD22NQQ']].plot.bar(\n",
    "#stats_df.plot.bar(\n",
    "    #ylabel='Count /$10^4$',\n",
    "\trot=0,\n",
    "\tax=axs[-1],\n",
    "    color=cset[5:],\n",
    ")\n",
    "axs[-1].set_ylim([0,100])\n",
    "\n",
    "axs[-1].grid(axis='y', alpha=0.3)\n",
    "axs[-1].legend(\n",
    "    [\n",
    "        f'SD22N, $\\\\langle N_\\\\text{{mols}} \\\\rangle = {SD22N_cluster_size:.1f}$',\n",
    "        f'SD22NQ, $\\\\langle N_\\\\text{{mols}} \\\\rangle = {SD22NQ_cluster_size:.1f}$',\n",
    "        f'SD22NQQ, $\\\\langle N_\\\\text{{mols}} \\\\rangle = {SD22NQQ_cluster_size:.1f}$',\n",
    "    ],\n",
    "    fontsize=fsize-4,\n",
    ")"
   ]
  },
  {
   "cell_type": "code",
   "execution_count": null,
   "id": "74108c3f",
   "metadata": {},
   "outputs": [],
   "source": []
  }
 ],
 "metadata": {
  "kernelspec": {
   "display_name": "Python 3",
   "language": "python",
   "name": "python3"
  },
  "language_info": {
   "codemirror_mode": {
    "name": "ipython",
    "version": 3
   },
   "file_extension": ".py",
   "mimetype": "text/x-python",
   "name": "python",
   "nbconvert_exporter": "python",
   "pygments_lexer": "ipython3",
   "version": "3.10.12"
  }
 },
 "nbformat": 4,
 "nbformat_minor": 5
}
