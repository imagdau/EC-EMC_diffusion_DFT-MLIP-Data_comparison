{
 "cells": [
  {
   "cell_type": "markdown",
   "metadata": {},
   "source": [
    "# Explore Zenodo community"
   ]
  },
  {
   "cell_type": "code",
   "execution_count": 1,
   "metadata": {},
   "outputs": [
    {
     "data": {
      "application/vnd.plotly.v1+json": {
       "config": {
        "plotlyServerURL": "https://plot.ly"
       },
       "data": [
        {
         "arrangement": "snap",
         "link": {
          "source": [
           0,
           0,
           0,
           0,
           1,
           1,
           2,
           3,
           3,
           3,
           3,
           3,
           4,
           4,
           4,
           5,
           6,
           7,
           8,
           9,
           11,
           13,
           13,
           14,
           15,
           16,
           16,
           17,
           18,
           19,
           20,
           21,
           21,
           22,
           22
          ],
          "target": [
           3,
           4,
           5,
           9,
           6,
           7,
           8,
           10,
           11,
           19,
           21,
           22,
           12,
           13,
           18,
           14,
           15,
           16,
           17,
           20,
           32,
           23,
           24,
           28,
           29,
           25,
           26,
           27,
           30,
           33,
           34,
           36,
           37,
           31,
           35
          ],
          "value": [
           1,
           1,
           1,
           1,
           1,
           1,
           1,
           1,
           1,
           1,
           1,
           1,
           1,
           1,
           1,
           1,
           1,
           1,
           1,
           1,
           1,
           1,
           1,
           1,
           1,
           1,
           1,
           1,
           1,
           1,
           1,
           1,
           1,
           1,
           1
          ]
         },
         "node": {
          "customdata": [
           "ac1@10835267",
           "ac1@10712131",
           "ac2@10712131",
           "td1@10835267",
           "td2@10835267",
           "td1@10712131",
           "td2@10712131",
           "td3@10712131",
           "td4@10712131",
           "td1@10890165",
           "ml1@10835267",
           "ml2@10835267",
           "ml3@10835267",
           "ml4@10835267",
           "ml1@10712131",
           "ml2@10712131",
           "ml3@10712131",
           "ml4@10712131",
           "ml5@10712131",
           "ml1@10890165",
           "ml2@10890165",
           "ml3@10890165",
           "ml4@10890165",
           "md1@10835267",
           "md2@10835267",
           "md1@10712131",
           "md2@10712131",
           "md3@10712131",
           "md4@10712131",
           "md5@10712131",
           "md6@10712131",
           "md7@10712131",
           "md1@10890165",
           "md2@10890165",
           "md3@10890165",
           "md4@10890165",
           "md5@10890165",
           "md6@10890165"
          ],
          "hovertemplate": "%{customdata}",
          "label": [
           "IBM23",
           "SD22NQ",
           "SD22NQQ",
           "CASTEP/PBE-D2",
           "CP2K/PBE-D3",
           "VASP/B97-D3BJ",
           "PSI4/B97-D3BJ",
           "PSI4/wB97X-D3BJ",
           "PSI4/wB97X-D3BJ",
           "CASTEP (ASE+LAMMPS)/PBE-D2 (-fixed charge baseline)",
           "GAP/DS, Rcut 3/6",
           "GAP/DTS, Rcut 3/6",
           "GAP/DS, Rcut 3/6",
           "GAP/DTS, Rcut 3/6",
           "MACE/Layers 2, Rcut 6+6",
           "MACE/Layers 2, Rcut 6+6",
           "MACE/Layers 2, Rcut 6+6",
           "MACE/Layers 2, Rcut 6+6",
           "MACE/Layers 2, Rcut 6+6",
           "GAP/DTS, Rcut 3/6 (seeds 1,2,3)",
           "GAP/DTS, Rcut 3/6",
           "MACE/Layers 2, Rcut 4+4",
           "MACE/Layers 2, Rcut 6+6",
           "0%, 33%, 67%, 100% EC:EMC/NPT/300 K",
           "0%, 33%, 67%, 100% EC:EMC/NPT/350 K",
           "EMC/NPT/298 K",
           "0%, 33%, 67%, 100% EC:EMC/NPT/298, 298, 298, 313 K",
           "0%, 33%, 67%, 100% EC:EMC/NPT/298, 298, 298, 313 K",
           "0%, 33%, 67%, 100% EC:EMC/NPT/298, 298, 298, 313 K",
           "0%, 33%, 67%, 100% EC:EMC/NPT/298, 298, 298, 313 K",
           "0%, 33%, 67%, 100% EC:EMC/NPT/298, 298, 298, 313 K",
           "0%, 33%, 67%, 100% EC:EMC/NPT/298, 298, 298, 298 K",
           "33% EC:EMC (seeds 1,2,3)/NPT, NVT/500 K",
           "33% EC:EMC/NPT, NVT/500 K",
           "33% EC:EMC (seeds 1,2,3)/NPT, NVT/500 K",
           "33% EC:EMC/NPT, NVT/500 K",
           "33% EC:EMC/NPT, NVT/500 K",
           "33% EC:EMC (seeds 1,2,3)/NPT, NVT/500 K"
          ],
          "line": {
           "color": "black",
           "width": 0.5
          },
          "pad": 15,
          "thickness": 15,
          "x": [
           0.01,
           0.01,
           0.01,
           0.1,
           0.1,
           0.1,
           0.1,
           0.1,
           0.1,
           0.1,
           0.3,
           0.3,
           0.3,
           0.3,
           0.3,
           0.3,
           0.3,
           0.3,
           0.3,
           0.3,
           0.3,
           0.3,
           0.3,
           0.99,
           0.99,
           0.99,
           0.99,
           0.99,
           0.99,
           0.99,
           0.99,
           0.99,
           0.99,
           0.99,
           0.99,
           0.99,
           0.99,
           0.99
          ],
          "y": [
           0.1,
           0.3666666666666667,
           0.6333333333333333,
           0.1,
           0.2142857142857143,
           0.3285714285714286,
           0.44285714285714284,
           0.5571428571428572,
           0.6714285714285715,
           0.7857142857142857,
           0.1,
           0.16153846153846155,
           0.2230769230769231,
           0.2846153846153846,
           0.34615384615384615,
           0.4076923076923077,
           0.46923076923076923,
           0.5307692307692308,
           0.5923076923076923,
           0.6538461538461539,
           0.7153846153846154,
           0.7769230769230769,
           0.8384615384615385,
           0.1,
           0.15333333333333335,
           0.20666666666666667,
           0.26,
           0.31333333333333335,
           0.3666666666666667,
           0.42000000000000004,
           0.4733333333333334,
           0.5266666666666667,
           0.5800000000000001,
           0.6333333333333333,
           0.6866666666666666,
           0.74,
           0.7933333333333333,
           0.8466666666666667
          ]
         },
         "type": "sankey"
        }
       ],
       "layout": {
        "template": {
         "data": {
          "bar": [
           {
            "error_x": {
             "color": "#2a3f5f"
            },
            "error_y": {
             "color": "#2a3f5f"
            },
            "marker": {
             "line": {
              "color": "#E5ECF6",
              "width": 0.5
             },
             "pattern": {
              "fillmode": "overlay",
              "size": 10,
              "solidity": 0.2
             }
            },
            "type": "bar"
           }
          ],
          "barpolar": [
           {
            "marker": {
             "line": {
              "color": "#E5ECF6",
              "width": 0.5
             },
             "pattern": {
              "fillmode": "overlay",
              "size": 10,
              "solidity": 0.2
             }
            },
            "type": "barpolar"
           }
          ],
          "carpet": [
           {
            "aaxis": {
             "endlinecolor": "#2a3f5f",
             "gridcolor": "white",
             "linecolor": "white",
             "minorgridcolor": "white",
             "startlinecolor": "#2a3f5f"
            },
            "baxis": {
             "endlinecolor": "#2a3f5f",
             "gridcolor": "white",
             "linecolor": "white",
             "minorgridcolor": "white",
             "startlinecolor": "#2a3f5f"
            },
            "type": "carpet"
           }
          ],
          "choropleth": [
           {
            "colorbar": {
             "outlinewidth": 0,
             "ticks": ""
            },
            "type": "choropleth"
           }
          ],
          "contour": [
           {
            "colorbar": {
             "outlinewidth": 0,
             "ticks": ""
            },
            "colorscale": [
             [
              0,
              "#0d0887"
             ],
             [
              0.1111111111111111,
              "#46039f"
             ],
             [
              0.2222222222222222,
              "#7201a8"
             ],
             [
              0.3333333333333333,
              "#9c179e"
             ],
             [
              0.4444444444444444,
              "#bd3786"
             ],
             [
              0.5555555555555556,
              "#d8576b"
             ],
             [
              0.6666666666666666,
              "#ed7953"
             ],
             [
              0.7777777777777778,
              "#fb9f3a"
             ],
             [
              0.8888888888888888,
              "#fdca26"
             ],
             [
              1,
              "#f0f921"
             ]
            ],
            "type": "contour"
           }
          ],
          "contourcarpet": [
           {
            "colorbar": {
             "outlinewidth": 0,
             "ticks": ""
            },
            "type": "contourcarpet"
           }
          ],
          "heatmap": [
           {
            "colorbar": {
             "outlinewidth": 0,
             "ticks": ""
            },
            "colorscale": [
             [
              0,
              "#0d0887"
             ],
             [
              0.1111111111111111,
              "#46039f"
             ],
             [
              0.2222222222222222,
              "#7201a8"
             ],
             [
              0.3333333333333333,
              "#9c179e"
             ],
             [
              0.4444444444444444,
              "#bd3786"
             ],
             [
              0.5555555555555556,
              "#d8576b"
             ],
             [
              0.6666666666666666,
              "#ed7953"
             ],
             [
              0.7777777777777778,
              "#fb9f3a"
             ],
             [
              0.8888888888888888,
              "#fdca26"
             ],
             [
              1,
              "#f0f921"
             ]
            ],
            "type": "heatmap"
           }
          ],
          "heatmapgl": [
           {
            "colorbar": {
             "outlinewidth": 0,
             "ticks": ""
            },
            "colorscale": [
             [
              0,
              "#0d0887"
             ],
             [
              0.1111111111111111,
              "#46039f"
             ],
             [
              0.2222222222222222,
              "#7201a8"
             ],
             [
              0.3333333333333333,
              "#9c179e"
             ],
             [
              0.4444444444444444,
              "#bd3786"
             ],
             [
              0.5555555555555556,
              "#d8576b"
             ],
             [
              0.6666666666666666,
              "#ed7953"
             ],
             [
              0.7777777777777778,
              "#fb9f3a"
             ],
             [
              0.8888888888888888,
              "#fdca26"
             ],
             [
              1,
              "#f0f921"
             ]
            ],
            "type": "heatmapgl"
           }
          ],
          "histogram": [
           {
            "marker": {
             "pattern": {
              "fillmode": "overlay",
              "size": 10,
              "solidity": 0.2
             }
            },
            "type": "histogram"
           }
          ],
          "histogram2d": [
           {
            "colorbar": {
             "outlinewidth": 0,
             "ticks": ""
            },
            "colorscale": [
             [
              0,
              "#0d0887"
             ],
             [
              0.1111111111111111,
              "#46039f"
             ],
             [
              0.2222222222222222,
              "#7201a8"
             ],
             [
              0.3333333333333333,
              "#9c179e"
             ],
             [
              0.4444444444444444,
              "#bd3786"
             ],
             [
              0.5555555555555556,
              "#d8576b"
             ],
             [
              0.6666666666666666,
              "#ed7953"
             ],
             [
              0.7777777777777778,
              "#fb9f3a"
             ],
             [
              0.8888888888888888,
              "#fdca26"
             ],
             [
              1,
              "#f0f921"
             ]
            ],
            "type": "histogram2d"
           }
          ],
          "histogram2dcontour": [
           {
            "colorbar": {
             "outlinewidth": 0,
             "ticks": ""
            },
            "colorscale": [
             [
              0,
              "#0d0887"
             ],
             [
              0.1111111111111111,
              "#46039f"
             ],
             [
              0.2222222222222222,
              "#7201a8"
             ],
             [
              0.3333333333333333,
              "#9c179e"
             ],
             [
              0.4444444444444444,
              "#bd3786"
             ],
             [
              0.5555555555555556,
              "#d8576b"
             ],
             [
              0.6666666666666666,
              "#ed7953"
             ],
             [
              0.7777777777777778,
              "#fb9f3a"
             ],
             [
              0.8888888888888888,
              "#fdca26"
             ],
             [
              1,
              "#f0f921"
             ]
            ],
            "type": "histogram2dcontour"
           }
          ],
          "mesh3d": [
           {
            "colorbar": {
             "outlinewidth": 0,
             "ticks": ""
            },
            "type": "mesh3d"
           }
          ],
          "parcoords": [
           {
            "line": {
             "colorbar": {
              "outlinewidth": 0,
              "ticks": ""
             }
            },
            "type": "parcoords"
           }
          ],
          "pie": [
           {
            "automargin": true,
            "type": "pie"
           }
          ],
          "scatter": [
           {
            "fillpattern": {
             "fillmode": "overlay",
             "size": 10,
             "solidity": 0.2
            },
            "type": "scatter"
           }
          ],
          "scatter3d": [
           {
            "line": {
             "colorbar": {
              "outlinewidth": 0,
              "ticks": ""
             }
            },
            "marker": {
             "colorbar": {
              "outlinewidth": 0,
              "ticks": ""
             }
            },
            "type": "scatter3d"
           }
          ],
          "scattercarpet": [
           {
            "marker": {
             "colorbar": {
              "outlinewidth": 0,
              "ticks": ""
             }
            },
            "type": "scattercarpet"
           }
          ],
          "scattergeo": [
           {
            "marker": {
             "colorbar": {
              "outlinewidth": 0,
              "ticks": ""
             }
            },
            "type": "scattergeo"
           }
          ],
          "scattergl": [
           {
            "marker": {
             "colorbar": {
              "outlinewidth": 0,
              "ticks": ""
             }
            },
            "type": "scattergl"
           }
          ],
          "scattermapbox": [
           {
            "marker": {
             "colorbar": {
              "outlinewidth": 0,
              "ticks": ""
             }
            },
            "type": "scattermapbox"
           }
          ],
          "scatterpolar": [
           {
            "marker": {
             "colorbar": {
              "outlinewidth": 0,
              "ticks": ""
             }
            },
            "type": "scatterpolar"
           }
          ],
          "scatterpolargl": [
           {
            "marker": {
             "colorbar": {
              "outlinewidth": 0,
              "ticks": ""
             }
            },
            "type": "scatterpolargl"
           }
          ],
          "scatterternary": [
           {
            "marker": {
             "colorbar": {
              "outlinewidth": 0,
              "ticks": ""
             }
            },
            "type": "scatterternary"
           }
          ],
          "surface": [
           {
            "colorbar": {
             "outlinewidth": 0,
             "ticks": ""
            },
            "colorscale": [
             [
              0,
              "#0d0887"
             ],
             [
              0.1111111111111111,
              "#46039f"
             ],
             [
              0.2222222222222222,
              "#7201a8"
             ],
             [
              0.3333333333333333,
              "#9c179e"
             ],
             [
              0.4444444444444444,
              "#bd3786"
             ],
             [
              0.5555555555555556,
              "#d8576b"
             ],
             [
              0.6666666666666666,
              "#ed7953"
             ],
             [
              0.7777777777777778,
              "#fb9f3a"
             ],
             [
              0.8888888888888888,
              "#fdca26"
             ],
             [
              1,
              "#f0f921"
             ]
            ],
            "type": "surface"
           }
          ],
          "table": [
           {
            "cells": {
             "fill": {
              "color": "#EBF0F8"
             },
             "line": {
              "color": "white"
             }
            },
            "header": {
             "fill": {
              "color": "#C8D4E3"
             },
             "line": {
              "color": "white"
             }
            },
            "type": "table"
           }
          ]
         },
         "layout": {
          "annotationdefaults": {
           "arrowcolor": "#2a3f5f",
           "arrowhead": 0,
           "arrowwidth": 1
          },
          "autotypenumbers": "strict",
          "coloraxis": {
           "colorbar": {
            "outlinewidth": 0,
            "ticks": ""
           }
          },
          "colorscale": {
           "diverging": [
            [
             0,
             "#8e0152"
            ],
            [
             0.1,
             "#c51b7d"
            ],
            [
             0.2,
             "#de77ae"
            ],
            [
             0.3,
             "#f1b6da"
            ],
            [
             0.4,
             "#fde0ef"
            ],
            [
             0.5,
             "#f7f7f7"
            ],
            [
             0.6,
             "#e6f5d0"
            ],
            [
             0.7,
             "#b8e186"
            ],
            [
             0.8,
             "#7fbc41"
            ],
            [
             0.9,
             "#4d9221"
            ],
            [
             1,
             "#276419"
            ]
           ],
           "sequential": [
            [
             0,
             "#0d0887"
            ],
            [
             0.1111111111111111,
             "#46039f"
            ],
            [
             0.2222222222222222,
             "#7201a8"
            ],
            [
             0.3333333333333333,
             "#9c179e"
            ],
            [
             0.4444444444444444,
             "#bd3786"
            ],
            [
             0.5555555555555556,
             "#d8576b"
            ],
            [
             0.6666666666666666,
             "#ed7953"
            ],
            [
             0.7777777777777778,
             "#fb9f3a"
            ],
            [
             0.8888888888888888,
             "#fdca26"
            ],
            [
             1,
             "#f0f921"
            ]
           ],
           "sequentialminus": [
            [
             0,
             "#0d0887"
            ],
            [
             0.1111111111111111,
             "#46039f"
            ],
            [
             0.2222222222222222,
             "#7201a8"
            ],
            [
             0.3333333333333333,
             "#9c179e"
            ],
            [
             0.4444444444444444,
             "#bd3786"
            ],
            [
             0.5555555555555556,
             "#d8576b"
            ],
            [
             0.6666666666666666,
             "#ed7953"
            ],
            [
             0.7777777777777778,
             "#fb9f3a"
            ],
            [
             0.8888888888888888,
             "#fdca26"
            ],
            [
             1,
             "#f0f921"
            ]
           ]
          },
          "colorway": [
           "#636efa",
           "#EF553B",
           "#00cc96",
           "#ab63fa",
           "#FFA15A",
           "#19d3f3",
           "#FF6692",
           "#B6E880",
           "#FF97FF",
           "#FECB52"
          ],
          "font": {
           "color": "#2a3f5f"
          },
          "geo": {
           "bgcolor": "white",
           "lakecolor": "white",
           "landcolor": "#E5ECF6",
           "showlakes": true,
           "showland": true,
           "subunitcolor": "white"
          },
          "hoverlabel": {
           "align": "left"
          },
          "hovermode": "closest",
          "mapbox": {
           "style": "light"
          },
          "paper_bgcolor": "white",
          "plot_bgcolor": "#E5ECF6",
          "polar": {
           "angularaxis": {
            "gridcolor": "white",
            "linecolor": "white",
            "ticks": ""
           },
           "bgcolor": "#E5ECF6",
           "radialaxis": {
            "gridcolor": "white",
            "linecolor": "white",
            "ticks": ""
           }
          },
          "scene": {
           "xaxis": {
            "backgroundcolor": "#E5ECF6",
            "gridcolor": "white",
            "gridwidth": 2,
            "linecolor": "white",
            "showbackground": true,
            "ticks": "",
            "zerolinecolor": "white"
           },
           "yaxis": {
            "backgroundcolor": "#E5ECF6",
            "gridcolor": "white",
            "gridwidth": 2,
            "linecolor": "white",
            "showbackground": true,
            "ticks": "",
            "zerolinecolor": "white"
           },
           "zaxis": {
            "backgroundcolor": "#E5ECF6",
            "gridcolor": "white",
            "gridwidth": 2,
            "linecolor": "white",
            "showbackground": true,
            "ticks": "",
            "zerolinecolor": "white"
           }
          },
          "shapedefaults": {
           "line": {
            "color": "#2a3f5f"
           }
          },
          "ternary": {
           "aaxis": {
            "gridcolor": "white",
            "linecolor": "white",
            "ticks": ""
           },
           "baxis": {
            "gridcolor": "white",
            "linecolor": "white",
            "ticks": ""
           },
           "bgcolor": "#E5ECF6",
           "caxis": {
            "gridcolor": "white",
            "linecolor": "white",
            "ticks": ""
           }
          },
          "title": {
           "x": 0.05
          },
          "xaxis": {
           "automargin": true,
           "gridcolor": "white",
           "linecolor": "white",
           "ticks": "",
           "title": {
            "standoff": 15
           },
           "zerolinecolor": "white",
           "zerolinewidth": 2
          },
          "yaxis": {
           "automargin": true,
           "gridcolor": "white",
           "linecolor": "white",
           "ticks": "",
           "title": {
            "standoff": 15
           },
           "zerolinecolor": "white",
           "zerolinewidth": 2
          }
         }
        }
       }
      }
     },
     "metadata": {},
     "output_type": "display_data"
    }
   ],
   "source": [
    "from zenodoExplorer.zenexp import ze\n",
    "\n",
    "recIDs = [10835267, 10712131, 10890165]\n",
    "with open(\"api.key\", \"r\") as keyFile:\n",
    "    ACCESS_TOKEN = keyFile.readline().rstrip()\n",
    "\n",
    "z = ze(ACCESS_TOKEN, recIDs, cache='~/.zenodo_cache/')\n",
    "z.read_zdb()\n",
    "z.zdb.plot()"
   ]
  },
  {
   "cell_type": "markdown",
   "metadata": {},
   "source": [
    "# Force correlations"
   ]
  },
  {
   "cell_type": "code",
   "execution_count": 2,
   "metadata": {},
   "outputs": [],
   "source": [
    "z.read_dat_files('ml1@10712131')\n",
    "z.read_dat_files('td2@10835267')\n",
    "# Collect zip from repo\n",
    "loc1 = z.get_chunk(10712131, 'TestData_MACE_IBM23_B97.zip')\n",
    "loc2 = z.get_chunk(10712131, 'TestData_MACE_SD22NQ_B97.zip')"
   ]
  },
  {
   "cell_type": "markdown",
   "metadata": {},
   "source": [
    "## Model trained on clusters evaluated on periodic structures vs dft"
   ]
  },
  {
   "cell_type": "code",
   "execution_count": 3,
   "metadata": {},
   "outputs": [
    {
     "name": "stdout",
     "output_type": "stream",
     "text": [
      "198555 198555 198555 198555\n"
     ]
    },
    {
     "data": {
      "image/png": "[encoded data removed]",
      "text/plain": [
       "<Figure size 1515x330 with 6 Axes>"
      ]
     },
     "metadata": {},
     "output_type": "display_data"
    }
   ],
   "source": [
    "import copy, math\n",
    "import numpy as np\n",
    "import matplotlib as mpl\n",
    "import matplotlib.pyplot as plt\n",
    "import pandas as pd\n",
    "\n",
    "from ase.io import read, iread, write\n",
    "\n",
    "\n",
    "# INDICES PERTAINING TO VOLUME SCANS IN THE DATASET\n",
    "volume_scans = np.arange(757,846)\n",
    "\n",
    "# Read data\n",
    "cluster_reference = iread(loc1+'/IBM23_B97.xyz', ':')\n",
    "cluster = iread(loc1+'/IBM23_mace.xyz', ':')\n",
    "\n",
    "\n",
    "# ONLY WORKS FOR SORTED ATOMS-OBJECTS\n",
    "def molID_counter(arr):\n",
    "    \"\"\"Counts the number of serial occurences of a molID in a 1-D array of \n",
    "    molID's and returns an array of counts, equal in length to the input.\n",
    "\n",
    "    The function compares every element to the previous one. If they are the \n",
    "    same, increment the count by one and add the index to a temporary list.\n",
    "    If they are not the same, create a copy of the temporary list where each\n",
    "    element is equal to the total count of the last sequence and add it to\n",
    "    'counts' whilst also resetting the current count.\n",
    "\n",
    "    For example, this will result in:\n",
    "    $ arr = [0,0,1,1,1,0,0,0,0]\n",
    "    $ print(arr)\n",
    "    [2,2,3,3,3,4,4,4,4]\n",
    "    \n",
    "    The last count sequence is added when the (i+1)th element cannot be\n",
    "    selected.\"\"\"\n",
    "    counts = []\n",
    "    count = 1\n",
    "    for i, a in enumerate(arr):\n",
    "        if i > 0:\n",
    "            prev = arr[i-1]\n",
    "            if a == prev:\n",
    "                last_indices.append(i)\n",
    "                count += 1\n",
    "            else:\n",
    "                counts += [count for _ in last_indices]\n",
    "                last_indices = [i]\n",
    "                count = 1\n",
    "        else:\n",
    "            last_indices = [0]\n",
    "\n",
    "        # Adds last count array\n",
    "        try:\n",
    "            forward = arr[i+1]\n",
    "        except:\n",
    "            counts += [count for _ in last_indices]\n",
    "    return counts\n",
    "\n",
    "\n",
    "def unique_molID_counter(arr):\n",
    "    \"\"\"Counts the number of unique occurrences in a list and returns an equally\n",
    "    long list where the ID has been replaced by frequency.\n",
    "\n",
    "    Can only be applied on list objects that contain UNIQUE IDs.\"\"\"\n",
    "    unique_val, unique_count = np.unique(arr, return_counts=True)\n",
    "    unique_map = {k:v for k,v in zip(unique_val, unique_count)}\n",
    "    \n",
    "    return [unique_map[a] for a in arr]\n",
    "\n",
    "\n",
    "# Set y-axis limits\n",
    "xy_range = [-25,25]\n",
    "alpha=0.3\n",
    "fsize = 12\n",
    "grid_width = 20\n",
    "\n",
    "\n",
    "se = {}\n",
    "rse = {}\n",
    "counts = {}\n",
    "grid_size = (math.floor(np.sqrt(3)*grid_width), grid_width)\n",
    "\n",
    "plt.rcParams.update({'font.size': fsize})\n",
    "\n",
    "\n",
    "# DATA COLLECTION\n",
    "cluster_forces, cluster_reference_forces, configs, vscan = [],[],[],[]\n",
    "for i, (clst, ref) in enumerate(zip(cluster, cluster_reference)):\n",
    "    cluster_forces.extend(clst.arrays['forces'].flatten())\n",
    "    cluster_reference_forces.extend(ref.arrays['forces'].flatten())\n",
    "\n",
    "    if i in volume_scans:\n",
    "        vscan_bool = [1 for _ in clst.arrays['forces'].flatten()]\n",
    "    else:\n",
    "        vscan_bool = [0 for _ in clst.arrays['forces'].flatten()]\n",
    "    vscan.extend(vscan_bool)\n",
    "\n",
    "    cluster_config = unique_molID_counter(clst.arrays['molID'])\n",
    "    configs.extend(cluster_config+cluster_config+cluster_config)\n",
    "\n",
    "cluster_df = pd.DataFrame(\n",
    "    {\n",
    "        'cluster reference':cluster_reference_forces,\n",
    "        'cluster forces':cluster_forces,\n",
    "        'config':configs,\n",
    "        'vscan':vscan,\n",
    "    }\n",
    ")\n",
    "\n",
    "print(\n",
    "    len(cluster_forces),\n",
    "    len(cluster_reference_forces),\n",
    "    len(configs),\n",
    "    len(vscan)\n",
    ")\n",
    "\n",
    "# PLOTTING\n",
    "fig, axs = plt.subplots(1,5, sharey=True, sharex=True, figsize=(15.15,3.3))\n",
    "\n",
    "rmse = (np.sum((cluster_df['cluster forces']-cluster_df['cluster reference'])**2)/len(cluster_df['cluster reference']))**0.5\n",
    "rrmse = rmse/(np.sum((cluster_df['cluster forces']-np.average(cluster_df['cluster forces']))**2))**0.5\n",
    "\n",
    "\n",
    "#regular_structures = cluster_df[cluster_df['vscan'] == 0]\n",
    "#vscans = cluster_df[cluster_df['vscan'] == 1]\n",
    "\n",
    "#regular_ec_mace = regular_structures['cluster forces'][cluster_df['config'] == 10]\n",
    "#regular_ec_dft = regular_structures['cluster reference'][cluster_df['config'] == 10]\n",
    "#l = np.mean((l-k)**2)\n",
    "#print(r**0.5)\n",
    "\n",
    "\n",
    "\n",
    "\n",
    "axs[4].set_title(f'Total forces /eV$\\,$Å$^{{-1}}$', fontsize=fsize)\n",
    "lastim = axs[4].hexbin(\n",
    "    cluster_df['cluster reference'],\n",
    "    cluster_df['cluster forces'],\n",
    "    mincnt=1,\n",
    "    gridsize=grid_size,\n",
    "    #norm=norm,\n",
    ")\n",
    "cbar = fig.colorbar(\n",
    "    lastim,\n",
    "    #ax=axs[4],\n",
    "    #pad=0.5,\n",
    ")\n",
    "axs[4].annotate(\n",
    "    f'RMSE:   {rmse:.4f}  \\nRRMSE: {rrmse:.5f}',\n",
    "    (0, xy_range[0]),\n",
    "    fontsize=fsize-2,\n",
    "    ha='center',\n",
    "    va='bottom'\n",
    ")\n",
    "\n",
    "counts = lastim.get_array()\n",
    "norm = mpl.colors.Normalize(vmin=1, vmax=max(counts), clip=False)\n",
    "\n",
    "\n",
    "for ax in axs:\n",
    "    ax.plot(xy_range, xy_range, 'k:', alpha=alpha, zorder=0)\n",
    "    ax.set_xlim(xy_range)\n",
    "    ax.set_ylim(xy_range)\n",
    "    ax.set_xlabel('DFT reference,\\nperiodic structures')\n",
    "axs[0].set_ylabel(f'MACE model trained on\\nmolecular clusters')\n",
    "\n",
    "\n",
    "\n",
    "for vbool, vgroup in cluster_df.groupby('vscan'):\n",
    "    #print('vscan:', vbool)\n",
    "    for mol, cgroup in vgroup.groupby('config'):\n",
    "        x = cgroup['cluster reference']\n",
    "        y = cgroup['cluster forces']\n",
    "        \n",
    "        rmse = (np.sum((x-y)**2)/len(x))**0.5\n",
    "        rrmse = rmse/(np.sum((x-np.average(x))**2))**0.5\n",
    "        #print(mol, rmse, rrmse)\n",
    "\n",
    "        if vbool == 0:\n",
    "            if mol == 15:\n",
    "                axs[0].set_title(f'EMC forces /eV$\\,$Å$^{{-1}}$', fontsize=fsize)\n",
    "                axs[0].hexbin(\n",
    "                    x,\n",
    "                    y,\n",
    "                    mincnt=1,\n",
    "                    gridsize=grid_size,\n",
    "                    norm=norm,\n",
    "                )\n",
    "                axs[0].annotate(\n",
    "                    f'RMSE:   {rmse:.4f}  \\nRRMSE: {rrmse:.5f}',\n",
    "                    (0, xy_range[0]),\n",
    "                    fontsize=fsize-2,\n",
    "                    ha='center',\n",
    "                    va='bottom'\n",
    "                )\n",
    "            elif mol == 10:\n",
    "                axs[1].set_title(f'EC forces /eV$\\,$Å$^{{-1}}$', fontsize=fsize)\n",
    "                axs[1].hexbin(\n",
    "                    x,\n",
    "                    y,\n",
    "                    mincnt=1,\n",
    "                    gridsize=grid_size,\n",
    "                    norm=norm,\n",
    "                )\n",
    "                axs[1].annotate(\n",
    "                    f'RMSE:   {rmse:.4f}  \\nRRMSE: {rrmse:.5f}',\n",
    "                    (0, xy_range[0]),\n",
    "                    fontsize=fsize-2,\n",
    "                    ha='center',\n",
    "                    va='bottom'\n",
    "                )\n",
    "\n",
    "        else:\n",
    "            if mol == 15:\n",
    "                axs[2].set_title(f'EMC forces /eV$\\,$Å$^{{-1}}$', fontsize=fsize)\n",
    "                axs[2].hexbin(\n",
    "                    x,\n",
    "                    y,\n",
    "                    mincnt=1,\n",
    "                    gridsize=grid_size,\n",
    "                    norm=norm,\n",
    "                )\n",
    "                axs[2].annotate(\n",
    "                    f'RMSE:   {rmse:.4f}  \\nRRMSE: {rrmse:.5f}',\n",
    "                    (0, xy_range[0]),\n",
    "                    fontsize=fsize-2,\n",
    "                    ha='center',\n",
    "                    va='bottom'\n",
    "                )\n",
    "            elif mol == 10:\n",
    "                axs[3].set_title(f'EC forces /eV$\\,$Å$^{{-1}}$', fontsize=fsize)\n",
    "                axs[3].hexbin(\n",
    "                    x,\n",
    "                    y,\n",
    "                    mincnt=1,\n",
    "                    gridsize=grid_size,\n",
    "                    norm=norm,\n",
    "                )\n",
    "                axs[3].annotate(\n",
    "                    f'RMSE:   {rmse:.4f}  \\nRRMSE: {rrmse:.5f}',\n",
    "                    (0, xy_range[0]),\n",
    "                    fontsize=fsize-2,\n",
    "                    ha='center',\n",
    "                    va='bottom'\n",
    "                )\n",
    "\n",
    "\n",
    "plt.tight_layout()\n"
   ]
  },
  {
   "cell_type": "markdown",
   "metadata": {},
   "source": [
    "## Model trained on periodic structure evaluated on clusters vs dft"
   ]
  },
  {
   "cell_type": "code",
   "execution_count": 4,
   "metadata": {},
   "outputs": [
    {
     "data": {
      "image/png": "[encoded data removed]",
      "text/plain": [
       "<Figure size 1515x330 with 6 Axes>"
      ]
     },
     "metadata": {},
     "output_type": "display_data"
    }
   ],
   "source": [
    "from matplotlib.patches import Rectangle\n",
    "\n",
    "# Read data\n",
    "periodic_reference= iread(loc2+'/SD22NQ_B97.xyz', ':')\n",
    "periodic = iread(loc2+'/SD22NQ_mace.xyz', ':')\n",
    "\n",
    "\n",
    "ec = 'EC forces'\n",
    "emc = 'EMC forces'\n",
    "with_ec = 'EC with misc. forces'\n",
    "with_emc = 'EMC with misc. forces'\n",
    "total = 'Total forces'\n",
    "fsize = 12\n",
    "grid_width = 35\n",
    "xy_range = -60, 60\n",
    "\n",
    "\n",
    "# DATA COLLECTION\n",
    "periodic_forces, periodic_reference_forces, configs, nmols = [],[],[],[]\n",
    "for per, ref in zip(periodic, periodic_reference):\n",
    "    # Collect forces\n",
    "    periodic_forces.extend(per.arrays['forces'].flatten())\n",
    "    periodic_reference_forces.extend(ref.arrays['forces'].flatten())\n",
    "    \n",
    "    # Collect config types to associate with forces in a table\n",
    "    ctype = ref.info['config_type']\n",
    "    conf = [ctype for _ in ref.arrays['forces'].flatten()]\n",
    "    configs.extend(conf)\n",
    "\n",
    "    N = ref.info['Nmols']\n",
    "    nums = [N for _ in ref.arrays['forces'].flatten()]\n",
    "    nmols.extend(nums)\n",
    "\n",
    "periodic_df = pd.DataFrame(\n",
    "    {\n",
    "        'periodic reference':periodic_reference_forces,\n",
    "        'periodic forces':periodic_forces,\n",
    "        'config_type':configs,\n",
    "        'nmols':nmols\n",
    "    }\n",
    ")\n",
    "\n",
    "# DATA STORAGE\n",
    "se = {}\n",
    "rse = {}\n",
    "counts = {}\n",
    "grid_size = math.ceil(np.sqrt(3)*grid_width), grid_width\n",
    "dat = {'x':[], 'y':[]}\n",
    "emc_dat, emc_misc_dat = copy.deepcopy(dat), copy.deepcopy(dat)\n",
    "ec_dat, ec_misc_dat = copy.deepcopy(dat), copy.deepcopy(dat)\n",
    "\n",
    "\n",
    "\n",
    "# SE DETERMINATION\n",
    "group_df = periodic_df.groupby(by='config_type')\n",
    "for i, grp in enumerate(group_df):\n",
    "    config = grp[0]\n",
    "    n = grp[1]['nmols'].iloc[0]\n",
    "    x = grp[1]['periodic reference']\n",
    "    y = grp[1]['periodic forces']\n",
    "    \n",
    "    if ':' not in config:\n",
    "        # Only EMC\n",
    "        if 'EMC' in config:\n",
    "            # SE\n",
    "            if emc not in se.keys():\n",
    "                se[emc], rse[emc], counts[emc] = 0,0,0\n",
    "            se[emc] += np.sum((x-y)**2)\n",
    "            rse[emc] += np.sum((x-np.average(x))**2)\n",
    "            counts[emc] += len(x)\n",
    "\n",
    "            # PLOT DATA\n",
    "            emc_dat['x'].extend(x); emc_dat['y'].extend(y)\n",
    "\n",
    "        # Only EC\n",
    "        if 'EC' in config:\n",
    "            # SE\n",
    "            if ec not in se.keys():\n",
    "                se[ec], rse[ec], counts[ec] = 0,0,0\n",
    "            se[ec] += np.sum((x-y)**2)\n",
    "            rse[ec] += np.sum((x-np.average(x))**2)\n",
    "            counts[ec] += len(x)\n",
    "\n",
    "            # PLOT DATA\n",
    "            ec_dat['x'].extend(x); ec_dat['y'].extend(y)\n",
    "\n",
    "    else:\n",
    "        # EMC + misc\n",
    "        if ('EMC' in config) and ('EC' not in config):\n",
    "            # SE\n",
    "            if with_emc not in se.keys():\n",
    "                se[with_emc], rse[with_emc], counts[with_emc] = 0,0,0\n",
    "            se[with_emc] += np.sum((x-y)**2)\n",
    "            rse[with_emc] += np.sum((x-np.average(x))**2)\n",
    "            counts[with_emc] += len(x)\n",
    "\n",
    "            # PLOT DATA\n",
    "            emc_misc_dat['x'].extend(x); emc_misc_dat['y'].extend(y)\n",
    "            \n",
    "        # EC + misc\n",
    "        if ('EMC' not in config) and ('EC' in config):\n",
    "            # SE\n",
    "            if with_ec not in se.keys():\n",
    "                se[with_ec], rse[with_ec], counts[with_ec] = 0,0,0\n",
    "            se[with_ec] += np.sum((x-y)**2)\n",
    "            rse[with_ec] += np.sum((x-np.average(x))**2)\n",
    "            counts[with_ec] += len(x)\n",
    "\n",
    "            # PLOT DATA\n",
    "            ec_misc_dat['x'].extend(x); ec_misc_dat['y'].extend(y)\n",
    "            \n",
    "        # Total se\n",
    "        if total not in se.keys():\n",
    "            se[total], rse[total], counts[total] = 0,0,0\n",
    "        se[total] += np.sum((x-y)**2)\n",
    "        rse[total] += np.sum((x-np.average(x))**2)\n",
    "        counts[total] += len(x)\n",
    "\n",
    "\n",
    "# PLOT\n",
    "fig, axs = plt.subplots(1,5, sharey=True, sharex=True, figsize=(15.15,3.3))\n",
    "plt.rcParams.update({'font.size': fsize})\n",
    "norm = mpl.colors.Normalize(vmin=0, vmax=len(periodic_df['periodic reference']), clip=False)\n",
    "\n",
    "auxiliary_range = [-25,25]\n",
    "aux_pos = auxiliary_range[0], auxiliary_range[0]\n",
    "aux_width = 2*auxiliary_range[1]\n",
    "\n",
    "mse = {key:np.sum(val)/counts[key] for key, val in se.items()}\n",
    "rrmse = {key:np.sqrt(mse[key]/val) for key, val in rse.items()}\n",
    "\n",
    "axs[4].set_title(total+' /eV$\\,$Å$^{{-1}}$', fontsize=fsize)\n",
    "lastim = axs[4].hexbin(\n",
    "    periodic_df['periodic reference'],\n",
    "    periodic_df['periodic forces'],\n",
    "    mincnt=1,\n",
    "    gridsize=grid_size,\n",
    "    #norm=norm,\n",
    ")\n",
    "cbar = fig.colorbar(\n",
    "    lastim,\n",
    "    ax=axs[4],\n",
    ")\n",
    "axs[4].annotate(\n",
    "    f'RMSE:    {np.sqrt(mse[total]):.4f}  \\nRRMSE:  {rrmse[total]:.5f}',\n",
    "    (0, xy_range[0]),\n",
    "    fontsize=fsize-2,\n",
    "    ha='center',\n",
    "    va='bottom'\n",
    ")\n",
    "counts = lastim.get_array()\n",
    "norm = mpl.colors.Normalize(vmin=1, vmax=max(counts), clip=False)\n",
    "\n",
    "for ax in axs:\n",
    "    ax.plot(xy_range, xy_range, 'k:', alpha=0.3, zorder=0)\n",
    "    ax.set_xlim(xy_range)\n",
    "    ax.set_ylim(xy_range)\n",
    "    ax.set_xlabel('DFT reference,\\nmolecular clusters')\n",
    "    ax.add_patch(\n",
    "        Rectangle(\n",
    "            aux_pos,\n",
    "            aux_width,\n",
    "            aux_width,\n",
    "            facecolor='gray',\n",
    "            alpha=0.2,\n",
    "        )\n",
    "    )\n",
    "axs[0].set_ylabel('MACE model trained on\\nperiodic structures')\n",
    "\n",
    "axs[0].set_title(emc+' /eV$\\,$Å$^{{-1}}$', fontsize=fsize)\n",
    "axs[0].hexbin(\n",
    "    emc_dat['x'],\n",
    "    emc_dat['y'],\n",
    "    mincnt=1,\n",
    "    gridsize=grid_size,\n",
    "    norm=norm,\n",
    ")\n",
    "axs[0].annotate(\n",
    "    f'RMSE:    {np.sqrt(mse[emc]):.4f}  \\nRRMSE:  {rrmse[emc]:.5f}',\n",
    "    (0, xy_range[0]),\n",
    "    fontsize=fsize-2,\n",
    "    ha='center',\n",
    "    va='bottom'\n",
    ")\n",
    "\n",
    "axs[1].set_title(ec+' /eV$\\,$Å$^{{-1}}$', fontsize=fsize)\n",
    "axs[1].hexbin(\n",
    "    ec_dat['x'],\n",
    "    ec_dat['y'],\n",
    "    mincnt=1,\n",
    "    gridsize=grid_size,\n",
    "    norm=norm,\n",
    ")\n",
    "axs[1].annotate(\n",
    "    f'RMSE:    {np.sqrt(mse[ec]):.4f}  \\nRRMSE:  {rrmse[ec]:.5f}',\n",
    "    (0, xy_range[0]),\n",
    "    fontsize=fsize-2,\n",
    "    ha='center',\n",
    "    va='bottom'\n",
    ")\n",
    "\n",
    "axs[2].set_title(with_emc+' /eV$\\,$Å$^{{-1}}$', fontsize=fsize)\n",
    "axs[2].hexbin(\n",
    "    emc_misc_dat['x'],\n",
    "    emc_misc_dat['y'],\n",
    "    mincnt=1,\n",
    "    gridsize=grid_size,\n",
    "    norm=norm,\n",
    ")\n",
    "axs[2].annotate(\n",
    "    f'RMSE:    {np.sqrt(mse[with_emc]):.4f}  \\nRRMSE:  {rrmse[with_emc]:.5f}',\n",
    "    (0, xy_range[0]),\n",
    "    fontsize=fsize-2,\n",
    "    ha='center',\n",
    "    va='bottom'\n",
    ")\n",
    "\n",
    "axs[3].set_title(with_ec+' /eV$\\,$Å$^{{-1}}$', fontsize=fsize)\n",
    "axs[3].hexbin(\n",
    "    ec_misc_dat['x'],\n",
    "    ec_misc_dat['y'],\n",
    "    mincnt=1,\n",
    "    gridsize=grid_size,\n",
    "    norm=norm,\n",
    ")\n",
    "axs[3].annotate(\n",
    "    f'RMSE:    {np.sqrt(mse[with_ec]):.4f}  \\nRRMSE:  {rrmse[with_ec]:.5f}',\n",
    "    (0, xy_range[0]),\n",
    "    fontsize=fsize-2,\n",
    "    ha='center',\n",
    "    va='bottom'\n",
    ")\n",
    "\n",
    "\n",
    "plt.tight_layout()"
   ]
  }
 ],
 "metadata": {
  "kernelspec": {
   "display_name": "mace_env",
   "language": "python",
   "name": "python3"
  },
  "language_info": {
   "codemirror_mode": {
    "name": "ipython",
    "version": 3
   },
   "file_extension": ".py",
   "mimetype": "text/x-python",
   "name": "python",
   "nbconvert_exporter": "python",
   "pygments_lexer": "ipython3",
   "version": "3.10.13"
  }
 },
 "nbformat": 4,
 "nbformat_minor": 2
}
